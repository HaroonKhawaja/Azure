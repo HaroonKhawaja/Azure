{
 "cells": [
  {
   "cell_type": "markdown",
   "metadata": {
    "application/vnd.databricks.v1+cell": {
     "cellMetadata": {
      "byteLimit": 2048000,
      "rowLimit": 10000
     },
     "inputWidgets": {},
     "nuid": "baaa1b50-a5da-4697-a744-9695bb28a484",
     "showTitle": false,
     "tableResultSettingsMap": {},
     "title": ""
    }
   },
   "source": []
  },
  {
   "cell_type": "code",
   "execution_count": 0,
   "metadata": {
    "application/vnd.databricks.v1+cell": {
     "cellMetadata": {
      "byteLimit": 2048000,
      "rowLimit": 10000
     },
     "inputWidgets": {},
     "nuid": "9fac55ea-7725-4964-94ae-3bdb9e3838bb",
     "showTitle": false,
     "tableResultSettingsMap": {},
     "title": ""
    }
   },
   "outputs": [],
   "source": [
    "from pyspark.sql.types import *\n",
    "from pyspark.sql.functions import *\n",
    "\n",
    "orderSchema = StructType([\n",
    "    StructField(\"Sales_Order_Number\", StringType()),\n",
    "    StructField(\"Sales_Order_Line_Number\", IntegerType()),\n",
    "    StructField(\"Order_Date\", DateType()),\n",
    "    StructField(\"Customer_Name\", StringType()),\n",
    "    StructField(\"Email\", StringType()),\n",
    "    StructField(\"Item\", StringType()),\n",
    "    StructField(\"Quantity\", IntegerType()),\n",
    "    StructField(\"Unit_Price\", FloatType()),\n",
    "    StructField(\"Tax\", FloatType())\n",
    "])\n",
    "df = spark.read.load('/workflow_lab/*.csv', format='csv', schema=orderSchema)\n",
    "display(df.limit(10))"
   ]
  },
  {
   "cell_type": "code",
   "execution_count": 0,
   "metadata": {
    "application/vnd.databricks.v1+cell": {
     "cellMetadata": {
      "byteLimit": 2048000,
      "rowLimit": 10000
     },
     "inputWidgets": {},
     "nuid": "e6cd72fb-2ab0-4d00-83ba-fb6545c49101",
     "showTitle": false,
     "tableResultSettingsMap": {},
     "title": ""
    }
   },
   "outputs": [],
   "source": [
    "df = df.dropDuplicates().withColumn(\"Tax\", (col(\"Unit_Price\") * 0.05).cast(\"float\"))\n"
   ]
  },
  {
   "cell_type": "code",
   "execution_count": 0,
   "metadata": {
    "application/vnd.databricks.v1+cell": {
     "cellMetadata": {
      "byteLimit": 2048000,
      "rowLimit": 10000
     },
     "inputWidgets": {},
     "nuid": "5e72f4d2-4f19-4573-9621-d0ab5cee8074",
     "showTitle": false,
     "tableResultSettingsMap": {},
     "title": ""
    }
   },
   "outputs": [],
   "source": [
    "yearly_sales = df.select(year(\"Order_Date\").alias(\"year\")).groupBy(\"Year\").count().orderBy(\"Year\")\n",
    "display(yearly_sales)\n",
    "\n",
    "most_frequent_email = df.groupBy(\"Email\").count().orderBy(desc(\"count\")).limit(5)\n",
    "display(most_frequent_email)"
   ]
  }
 ],
 "metadata": {
  "application/vnd.databricks.v1+notebook": {
   "computePreferences": null,
   "dashboards": [],
   "environmentMetadata": {
    "base_environment": "",
    "environment_version": "2"
   },
   "inputWidgetPreferences": null,
   "language": "python",
   "notebookMetadata": {
    "pythonIndentUnit": 4
   },
   "notebookName": "ETL",
   "widgets": {}
  },
  "language_info": {
   "name": "python"
  }
 },
 "nbformat": 4,
 "nbformat_minor": 0
}
