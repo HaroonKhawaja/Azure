{
 "cells": [
  {
   "cell_type": "markdown",
   "metadata": {
    "application/vnd.databricks.v1+cell": {
     "cellMetadata": {},
     "inputWidgets": {},
     "nuid": "49e21b1a-7872-4015-a850-0f7f516aa2a5",
     "showTitle": false,
     "tableResultSettingsMap": {},
     "title": ""
    }
   },
   "source": [
    "# Change Data Capture (CDC)\n"
   ]
  },
  {
   "cell_type": "markdown",
   "metadata": {
    "application/vnd.databricks.v1+cell": {
     "cellMetadata": {},
     "inputWidgets": {},
     "nuid": "bc421f28-c7d5-46fc-949a-af4960c02a47",
     "showTitle": false,
     "tableResultSettingsMap": {},
     "title": ""
    }
   },
   "source": [
    "##1. What is Change Data Capture"
   ]
  },
  {
   "cell_type": "markdown",
   "metadata": {
    "application/vnd.databricks.v1+cell": {
     "cellMetadata": {},
     "inputWidgets": {},
     "nuid": "ca197b07-4e20-4844-9fb2-592f9eb7b0ec",
     "showTitle": false,
     "tableResultSettingsMap": {},
     "title": ""
    }
   },
   "source": [
    "It is a data integration pattern that captures changes made to a data in a source system.\\\n",
    "These changes can be inserts, updates, and deletes.\\\n",
    "These changes are represented in the form of a list. This list is called the Change Data Feed (CDF).\\\n",
    "SQL Server, MySQL, Oracle, and other transactional databasebases generate CDC Feeds.\\\n",
    "Delta tables generate their own CDC feeds called CDFs.\n"
   ]
  },
  {
   "cell_type": "markdown",
   "metadata": {
    "application/vnd.databricks.v1+cell": {
     "cellMetadata": {},
     "inputWidgets": {},
     "nuid": "3337d9d8-94c7-4ffa-886c-efcd088be9ab",
     "showTitle": false,
     "tableResultSettingsMap": {},
     "title": ""
    }
   },
   "source": [
    "##2. Processing a Change Data Feed (CDF)"
   ]
  },
  {
   "cell_type": "markdown",
   "metadata": {
    "application/vnd.databricks.v1+cell": {
     "cellMetadata": {},
     "inputWidgets": {},
     "nuid": "e81a8bde-35e8-4d6b-9689-0dfd0c616500",
     "showTitle": false,
     "tableResultSettingsMap": {},
     "title": ""
    }
   },
   "source": [
    "The processing of a CDF is known as _slowly changing dimensions_ (SCD).\\\n",
    "Two types of SCDs:\n",
    "1. **SCD Type 1:** Keep the latest changes, overwriting the existing data.\n",
    "2. **SCD Type 2:** Keep the history of changes of the data. Each version of the data is timestamped to allow users to trace when a change occured."
   ]
  },
  {
   "cell_type": "code",
   "execution_count": 0,
   "metadata": {
    "application/vnd.databricks.v1+cell": {
     "cellMetadata": {
      "byteLimit": 2048000,
      "rowLimit": 10000
     },
     "inputWidgets": {},
     "nuid": "88e4d1c1-a8bc-43c3-9db4-ad5916f7cf5c",
     "showTitle": false,
     "tableResultSettingsMap": {},
     "title": ""
    }
   },
   "outputs": [],
   "source": [
    "# update these to the catalog and schema where you have permissions\n",
    "# to create tables and views.\n",
    "\n",
    "catalog = \"mycatalog\"\n",
    "schema = \"myschema\"\n",
    "employees_cdf_table = \"employees_cdf\"\n",
    "\n",
    "def write_employees_cdf_to_delta():\n",
    " data = [\n",
    "   (1, \"Alex\", \"chef\", \"FR\", \"INSERT\", 1),\n",
    "   (2, \"Jessica\", \"owner\", \"US\", \"INSERT\", 2),\n",
    "   (3, \"Mikhail\", \"security\", \"UK\", \"INSERT\", 3),\n",
    "   (4, \"Gary\", \"cleaner\", \"UK\", \"INSERT\", 4),\n",
    "   (5, \"Chris\", \"owner\", \"NL\", \"INSERT\", 6),\n",
    "   # out of order update, this should be dropped from SCD Type 1\n",
    "#    (5, \"Chris\", \"manager\", \"NL\", \"UPDATE\", 5)\n",
    "#    (6, \"Pat\", \"mechanic\", \"NL\", \"DELETE\", 8),\n",
    "#    (6, \"Pat\", \"mechanic\", \"NL\", \"INSERT\", 7)\n",
    " ]\n",
    " columns = [\"id\", \"name\", \"role\", \"country\", \"operation\", \"sequenceNum\"]\n",
    " df = spark.createDataFrame(data, columns)\n",
    " df.write.format(\"delta\").mode(\"overwrite\").saveAsTable(f\"{catalog}.{schema}.{employees_cdf_table}\")\n",
    "\n",
    "write_employees_cdf_to_delta()\n",
    "fff"
   ]
  },
  {
   "cell_type": "markdown",
   "metadata": {
    "application/vnd.databricks.v1+cell": {
     "cellMetadata": {},
     "inputWidgets": {},
     "nuid": "be1a43ac-e2a5-47ad-9b6b-dd6192f9101e",
     "showTitle": false,
     "tableResultSettingsMap": {},
     "title": ""
    }
   },
   "source": []
  }
 ],
 "metadata": {
  "application/vnd.databricks.v1+notebook": {
   "computePreferences": null,
   "dashboards": [],
   "environmentMetadata": {
    "base_environment": "",
    "environment_version": "2"
   },
   "inputWidgetPreferences": null,
   "language": "python",
   "notebookMetadata": {
    "pythonIndentUnit": 4
   },
   "notebookName": "CDC",
   "widgets": {}
  },
  "language_info": {
   "name": "python"
  }
 },
 "nbformat": 4,
 "nbformat_minor": 0
}
