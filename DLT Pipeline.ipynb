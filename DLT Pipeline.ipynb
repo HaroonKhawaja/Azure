{
 "cells": [
  {
   "cell_type": "markdown",
   "metadata": {
    "application/vnd.databricks.v1+cell": {
     "cellMetadata": {},
     "inputWidgets": {},
     "nuid": "34f19016-89fa-4b5e-a367-677d6913b8d3",
     "showTitle": false,
     "tableResultSettingsMap": {},
     "title": ""
    }
   },
   "source": [
    "# Running a DLT Pipeline"
   ]
  },
  {
   "cell_type": "markdown",
   "metadata": {
    "application/vnd.databricks.v1+cell": {
     "cellMetadata": {},
     "inputWidgets": {},
     "nuid": "ad3573ac-4b3f-4509-8d60-b784007c4ecc",
     "showTitle": false,
     "tableResultSettingsMap": {},
     "title": ""
    }
   },
   "source": [
    "## Downloading data"
   ]
  },
  {
   "cell_type": "code",
   "execution_count": 0,
   "metadata": {
    "application/vnd.databricks.v1+cell": {
     "cellMetadata": {
      "byteLimit": 2048000,
      "rowLimit": 10000
     },
     "inputWidgets": {},
     "nuid": "3086f1c3-7271-4f17-be53-6c82008f3258",
     "showTitle": false,
     "tableResultSettingsMap": {},
     "title": ""
    }
   },
   "outputs": [],
   "source": [
    "import urllib\n",
    "import os\n",
    "\n",
    "my_catalog = \"main_catalog\"\n",
    "my_schema = \"ny_baby_names\"\n",
    "my_volume = \"baby_names_data\"\n",
    "\n",
    "file_path = f\"/{my_catalog}/{my_schema}/{my_volume}/\"\n",
    "dbutils.fs.mkdirs(file_path)\n",
    "\n",
    "download_url = \"https://health.data.ny.gov/api/views/jxy9-yhdk/rows.csv\"\n",
    "filename = \"babynames.csv\"\n",
    "\n",
    "local_dbfs_path = f\"/dbfs{file_path}\"\n",
    "\n",
    "os.makedirs(local_dbfs_path, exist_ok=True)\n",
    "print(f\"Directory created: {local_dbfs_path}\")\n",
    "\n",
    "download_path = local_dbfs_path + filename\n",
    "urllib.request.urlretrieve(download_url, download_path)\n",
    "print(f\"File downloaded to: {download_path}\")\n",
    "\n"
   ]
  },
  {
   "cell_type": "markdown",
   "metadata": {
    "application/vnd.databricks.v1+cell": {
     "cellMetadata": {},
     "inputWidgets": {},
     "nuid": "21f72e46-4e02-49b0-a1a5-1aa756409990",
     "showTitle": false,
     "tableResultSettingsMap": {},
     "title": ""
    }
   },
   "source": [
    "#"
   ]
  },
  {
   "cell_type": "markdown",
   "metadata": {
    "application/vnd.databricks.v1+cell": {
     "cellMetadata": {},
     "inputWidgets": {},
     "nuid": "d20df4a0-2f52-4818-aa47-e5cb016e6843",
     "showTitle": false,
     "tableResultSettingsMap": {},
     "title": ""
    }
   },
   "source": [
    "## Pipeline to Declare Materialized Views and Streaming Tables"
   ]
  },
  {
   "cell_type": "code",
   "execution_count": 0,
   "metadata": {
    "application/vnd.databricks.v1+cell": {
     "cellMetadata": {
      "byteLimit": 2048000,
      "rowLimit": 10000
     },
     "inputWidgets": {},
     "nuid": "44fc1b64-495a-45b9-a413-244e866c034e",
     "showTitle": false,
     "tableResultSettingsMap": {},
     "title": ""
    }
   },
   "outputs": [],
   "source": [
    "import dlt\n",
    "from pyspark.sql.functions import *\n",
    "\n",
    "my_catalog = spark.conf.get('my_catalog')\n",
    "my_schema = spark.conf.get('my_schema')\n",
    "my_volume = spark.conf.get('my_volume')\n",
    "\n",
    "data_path = f\"/{my_catalog}/{my_schema}/{my_volume}/\"\n",
    "\n",
    "\n",
    "# Bronze layer that ingests raw data from a cloud storage location\n",
    "@dlt.table(\n",
    "    comment=\"Popular baby first names in New York. This data was ingested from the New York State Department of Health.\"\n",
    ")\n",
    "def baby_names():\n",
    "    df = (\n",
    "        spark.readStream\n",
    "        .format('cloudFiles')\n",
    "        .option('cloudFiles.format', 'csv')\n",
    "        .option('inferSchema', True)\n",
    "        .option('header', True)\n",
    "        .load(data_path)\n",
    "    )\n",
    "    df_renamed_column = df.withColumnRenamed(\"First Name\", \"First_Name\") # Renaming arg1 to arg2\n",
    "    return df_renamed_column\n",
    "\n",
    "# Silver layer with data validation and column renaming\n",
    "@dlt.table(\n",
    "    comment=\"New York popular baby first name data cleaned and prepared for analysis.\"\n",
    ")\n",
    "@dlt.expect(\"valid_first_name\", \"First_Name IS NOT NULL\")   # Checks if First_Name is not null. The expectations name is \"valid_first_name\"\n",
    "@dlt.expect_or_fail(\"valid_count\", \"Count > 0\")             # Checks if the count of babies is greater than 0. The expectations name is \"valid_count\"\n",
    "def baby_names_cleaned():\n",
    "    return (\n",
    "        dlt.read('baby_names')\n",
    "        .withColumnRenamed(\"Year\", \"Year_of_Birth\")\n",
    "        .select(\"Year_of_Birth\", \"First_Name\", \"Count\")\n",
    "    )\n",
    "\n",
    "# Gold layer with data analytics and data transformation.\n",
    "@dlt.table(\n",
    "    comment=\"A table summarizing counts of the top baby names for New York for 2021.\"\n",
    ")\n",
    "def top_baby_names_2021():\n",
    "    return (\n",
    "        dlt.read('baby_names_cleaned')\n",
    "        .filter(expr(\"Year_of_Birth == 2021\"))\n",
    "        .groupBy(\"First_Name\")\n",
    "        .agg(sum(\"Count\").alias(\"Total_Count\"))\n",
    "        .sort(expr(\"Total_Count\").desc())\n",
    "        .limit(10)\n",
    "    )\n"
   ]
  },
  {
   "cell_type": "code",
   "execution_count": 0,
   "metadata": {
    "application/vnd.databricks.v1+cell": {
     "cellMetadata": {
      "byteLimit": 2048000,
      "rowLimit": 10000
     },
     "inputWidgets": {},
     "nuid": "1d3a1689-77bf-48d0-8330-018c166d11a5",
     "showTitle": false,
     "tableResultSettingsMap": {},
     "title": ""
    }
   },
   "outputs": [],
   "source": [
    "# View the bronze layer data\n",
    "print(\"Bronze Layer: \")\n",
    "display(spark.table(f\"{my_schema}.baby_names\").limit(10))\n",
    "display(spark.table(f\"{my_schema}.baby_names_cleaned\").limit(10))\n",
    "display(spark.table(f\"{my_schema}.top_baby_names_2021\"))"
   ]
  }
 ],
 "metadata": {
  "application/vnd.databricks.v1+notebook": {
   "computePreferences": null,
   "dashboards": [],
   "environmentMetadata": {
    "base_environment": "",
    "environment_version": "2"
   },
   "inputWidgetPreferences": null,
   "language": "python",
   "notebookMetadata": {
    "pythonIndentUnit": 4
   },
   "notebookName": "DLT Pipeline",
   "widgets": {}
  },
  "language_info": {
   "name": "python"
  }
 },
 "nbformat": 4,
 "nbformat_minor": 0
}
